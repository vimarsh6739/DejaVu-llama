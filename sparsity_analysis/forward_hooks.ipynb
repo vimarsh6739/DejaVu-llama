{
 "cells": [
  {
   "cell_type": "code",
   "execution_count": 2,
   "id": "36c449cf-c72a-4d25-82f0-f0fc26db080a",
   "metadata": {},
   "outputs": [],
   "source": [
    "import torch\n",
    "from transformers import LlamaForCausalLM, LlamaTokenizer\n",
    "import transformers\n",
    "MODEL_PATH = f\"/shared/vsathia2/model/\""
   ]
  },
  {
   "cell_type": "code",
   "execution_count": 4,
   "id": "5f6c85b4-3e30-4117-b528-5a5e79471459",
   "metadata": {},
   "outputs": [
    {
     "data": {
      "text/plain": [
       "True"
      ]
     },
     "execution_count": 4,
     "metadata": {},
     "output_type": "execute_result"
    }
   ],
   "source": [
    "torch.cuda.is_available()"
   ]
  },
  {
   "cell_type": "code",
   "execution_count": 5,
   "id": "0356f530-93f7-4b21-858e-397cf657a7b9",
   "metadata": {},
   "outputs": [],
   "source": [
    "tokenizer = LlamaTokenizer.from_pretrained(MODEL_PATH, padding_side='left')"
   ]
  },
  {
   "cell_type": "code",
   "execution_count": 6,
   "id": "309cf2f7-9f18-4648-a307-5809378331e9",
   "metadata": {},
   "outputs": [],
   "source": [
    "tokenizer.pad_token = tokenizer.eos_token"
   ]
  },
  {
   "cell_type": "code",
   "execution_count": 14,
   "id": "976c316b-4cba-4ea6-8669-02378cd4949b",
   "metadata": {},
   "outputs": [
    {
     "data": {
      "application/vnd.jupyter.widget-view+json": {
       "model_id": "08f3d2ee28494fab88781442d85bd0aa",
       "version_major": 2,
       "version_minor": 0
      },
      "text/plain": [
       "Loading checkpoint shards:   0%|          | 0/3 [00:00<?, ?it/s]"
      ]
     },
     "metadata": {},
     "output_type": "display_data"
    }
   ],
   "source": [
    "model = LlamaForCausalLM.from_pretrained(MODEL_PATH,device_map=\"cuda:0\",attn_implementation=\"eager\")"
   ]
  },
  {
   "cell_type": "code",
   "execution_count": 15,
   "id": "d2f858df-ffee-4d21-b71c-160ec38abbfd",
   "metadata": {},
   "outputs": [
    {
     "name": "stdout",
     "output_type": "stream",
     "text": [
      "LlamaForCausalLM(\n",
      "  (model): LlamaModel(\n",
      "    (embed_tokens): Embedding(32000, 4096)\n",
      "    (layers): ModuleList(\n",
      "      (0-31): 32 x LlamaDecoderLayer(\n",
      "        (self_attn): LlamaAttention(\n",
      "          (q_proj): Linear(in_features=4096, out_features=4096, bias=False)\n",
      "          (k_proj): Linear(in_features=4096, out_features=4096, bias=False)\n",
      "          (v_proj): Linear(in_features=4096, out_features=4096, bias=False)\n",
      "          (o_proj): Linear(in_features=4096, out_features=4096, bias=False)\n",
      "          (rotary_emb): LlamaRotaryEmbedding()\n",
      "        )\n",
      "        (mlp): LlamaMLP(\n",
      "          (gate_proj): Linear(in_features=4096, out_features=11008, bias=False)\n",
      "          (up_proj): Linear(in_features=4096, out_features=11008, bias=False)\n",
      "          (down_proj): Linear(in_features=11008, out_features=4096, bias=False)\n",
      "          (act_fn): SiLU()\n",
      "        )\n",
      "        (input_layernorm): LlamaRMSNorm()\n",
      "        (post_attention_layernorm): LlamaRMSNorm()\n",
      "      )\n",
      "    )\n",
      "    (norm): LlamaRMSNorm()\n",
      "  )\n",
      "  (lm_head): Linear(in_features=4096, out_features=32000, bias=False)\n",
      ")\n"
     ]
    }
   ],
   "source": [
    "print(model)"
   ]
  },
  {
   "cell_type": "code",
   "execution_count": 144,
   "id": "756e28b7-d2a5-4b9b-8dbc-7886d934e3d3",
   "metadata": {},
   "outputs": [],
   "source": [
    "# Place Hook on the MLP\n",
    "glob_opt = []\n",
    "glob_ipts = []\n",
    "fp_i = 0\n",
    "def echo_hook(module,input,output):\n",
    "    global fp_i\n",
    "    print(f\"Forward Hook activated in MLP!\")\n",
    "    print(f\"Input:{input}\")\n",
    "    print(f\"Output: {output}\")\n",
    "    glob_opt.append(output.clone())\n",
    "    glob_ipt.append(input)\n",
    "    fp_i += 100\n",
    "    return output"
   ]
  },
  {
   "cell_type": "code",
   "execution_count": 145,
   "id": "2e8267f5-f06f-4d9c-9b59-21ddd727ed8a",
   "metadata": {},
   "outputs": [
    {
     "data": {
      "text/plain": [
       "transformers.models.llama.modeling_llama.LlamaMLP"
      ]
     },
     "execution_count": 145,
     "metadata": {},
     "output_type": "execute_result"
    }
   ],
   "source": [
    "type(model.model.layers[0].mlp)"
   ]
  },
  {
   "cell_type": "code",
   "execution_count": 146,
   "id": "8c54952e-ca76-46ff-9bdc-6888ff21b608",
   "metadata": {},
   "outputs": [],
   "source": [
    "module_hook = model.model.layers[0].mlp"
   ]
  },
  {
   "cell_type": "code",
   "execution_count": 147,
   "id": "548f0932-33bd-44d0-8d0d-8c950e73d997",
   "metadata": {},
   "outputs": [],
   "source": [
    "hook = module_hook.register_forward_hook(echo_hook)"
   ]
  },
  {
   "cell_type": "code",
   "execution_count": 148,
   "id": "cda49277-91f4-45f1-9951-705900b85493",
   "metadata": {},
   "outputs": [
    {
     "data": {
      "text/plain": [
       "<torch.utils.hooks.RemovableHandle at 0x7f89063c2b10>"
      ]
     },
     "execution_count": 148,
     "metadata": {},
     "output_type": "execute_result"
    }
   ],
   "source": [
    "hook"
   ]
  },
  {
   "cell_type": "code",
   "execution_count": 149,
   "id": "e05ae99d-0461-4fb6-89e4-0e32debb5e35",
   "metadata": {},
   "outputs": [],
   "source": [
    "prompts=[\"test\"]\n",
    "inputs=tokenizer(prompts,return_tensors=\"pt\",padding=True)"
   ]
  },
  {
   "cell_type": "code",
   "execution_count": 150,
   "id": "f62d3208-dc90-4505-9bc0-c36d38952a4d",
   "metadata": {},
   "outputs": [
    {
     "data": {
      "text/plain": [
       "{'input_ids': tensor([[   1, 1243]]), 'attention_mask': tensor([[1, 1]])}"
      ]
     },
     "execution_count": 150,
     "metadata": {},
     "output_type": "execute_result"
    }
   ],
   "source": [
    "inputs"
   ]
  },
  {
   "cell_type": "code",
   "execution_count": 151,
   "id": "7c9ed804-c4f7-4913-affd-bce9c385c919",
   "metadata": {},
   "outputs": [],
   "source": [
    "input_ids=inputs[\"input_ids\"].cuda()"
   ]
  },
  {
   "cell_type": "code",
   "execution_count": 154,
   "id": "4ea7caa5-7a4a-481c-ba0b-698d5258ae43",
   "metadata": {},
   "outputs": [
    {
     "name": "stdout",
     "output_type": "stream",
     "text": [
      "Forward Hook activated in MLP!\n",
      "Input:(tensor([[[-0.0356, -0.0647, -0.0261,  ...,  0.0063, -0.0028,  0.0356],\n",
      "         [-0.0343, -0.0434, -0.0423,  ...,  0.0757, -0.0577, -0.0238]]],\n",
      "       device='cuda:0', grad_fn=<MulBackward0>),)\n",
      "Output: tensor([[[-0.0052,  0.0948, -0.0104,  ..., -0.0180, -0.0250,  0.0413],\n",
      "         [ 0.0241,  0.0151,  0.0100,  ...,  0.0152, -0.0059, -0.0149]]],\n",
      "       device='cuda:0', grad_fn=<UnsafeViewBackward0>)\n",
      "300\n"
     ]
    }
   ],
   "source": [
    "outputs=model(input_ids)\n",
    "print(fp_i)"
   ]
  },
  {
   "cell_type": "code",
   "execution_count": 142,
   "id": "07d9748a-2b2c-4b6b-8063-180019755392",
   "metadata": {},
   "outputs": [],
   "source": [
    "hook.remove()"
   ]
  },
  {
   "cell_type": "code",
   "execution_count": 125,
   "id": "14a61c68-ba91-4578-bff0-779df2a1a331",
   "metadata": {},
   "outputs": [
    {
     "data": {
      "text/plain": [
       "[(tensor([[[-0.0356, -0.0647, -0.0261,  ...,  0.0063, -0.0028,  0.0356],\n",
       "           [-0.0343, -0.0434, -0.0423,  ...,  0.0757, -0.0577, -0.0238]]],\n",
       "         device='cuda:0', grad_fn=<MulBackward0>),)]"
      ]
     },
     "execution_count": 125,
     "metadata": {},
     "output_type": "execute_result"
    }
   ],
   "source": [
    "glob_ipt"
   ]
  },
  {
   "cell_type": "code",
   "execution_count": 76,
   "id": "c60bd2db-e9bc-475b-a57b-be0aae102d29",
   "metadata": {},
   "outputs": [
    {
     "data": {
      "text/plain": [
       "torch.Size([1, 2, 32000])"
      ]
     },
     "execution_count": 76,
     "metadata": {},
     "output_type": "execute_result"
    }
   ],
   "source": [
    "outputs.logits.shape"
   ]
  },
  {
   "cell_type": "code",
   "execution_count": 131,
   "id": "499d89b6-5406-49cd-9744-d04429c31699",
   "metadata": {},
   "outputs": [],
   "source": [
    "hook.remove()"
   ]
  },
  {
   "cell_type": "code",
   "execution_count": 143,
   "id": "34f953b3-0467-4cb3-81a5-6649fc39f076",
   "metadata": {},
   "outputs": [
    {
     "data": {
      "text/plain": [
       "OrderedDict()"
      ]
     },
     "execution_count": 143,
     "metadata": {},
     "output_type": "execute_result"
    }
   ],
   "source": [
    "module_hook._forward_hooks"
   ]
  },
  {
   "cell_type": "code",
   "execution_count": 61,
   "id": "0bca9475-ee33-49f9-807b-818812e10968",
   "metadata": {},
   "outputs": [],
   "source": [
    "hook.remove()"
   ]
  },
  {
   "cell_type": "code",
   "execution_count": 69,
   "id": "598f41bd-1c94-4495-b501-9186ae26a0b5",
   "metadata": {},
   "outputs": [],
   "source": [
    "from collections import OrderedDict\n",
    "model.model.layers[0].mlp._forward_hooks = OrderedDict()"
   ]
  },
  {
   "cell_type": "code",
   "execution_count": null,
   "id": "24f37cc9-d6ad-4121-a00e-cd6e0105f1db",
   "metadata": {},
   "outputs": [],
   "source": []
  },
  {
   "cell_type": "code",
   "execution_count": 132,
   "id": "ce76dae8-99d3-4af0-90a5-5e97031ff961",
   "metadata": {},
   "outputs": [
    {
     "data": {
      "text/plain": [
       "OrderedDict()"
      ]
     },
     "execution_count": 132,
     "metadata": {},
     "output_type": "execute_result"
    }
   ],
   "source": [
    "model.model.layers[0].mlp._forward_hooks"
   ]
  },
  {
   "cell_type": "code",
   "execution_count": null,
   "id": "a7cbfe22-6eac-411e-966c-709ef546f55e",
   "metadata": {},
   "outputs": [],
   "source": []
  },
  {
   "cell_type": "code",
   "execution_count": 126,
   "id": "97001130-0753-4a61-814e-d17c63e14e15",
   "metadata": {},
   "outputs": [
    {
     "data": {
      "text/plain": [
       "LlamaForCausalLM(\n",
       "  (model): LlamaModel(\n",
       "    (embed_tokens): Embedding(32000, 4096)\n",
       "    (layers): ModuleList(\n",
       "      (0-31): 32 x LlamaDecoderLayer(\n",
       "        (self_attn): LlamaAttention(\n",
       "          (q_proj): Linear(in_features=4096, out_features=4096, bias=False)\n",
       "          (k_proj): Linear(in_features=4096, out_features=4096, bias=False)\n",
       "          (v_proj): Linear(in_features=4096, out_features=4096, bias=False)\n",
       "          (o_proj): Linear(in_features=4096, out_features=4096, bias=False)\n",
       "          (rotary_emb): LlamaRotaryEmbedding()\n",
       "        )\n",
       "        (mlp): LlamaMLP(\n",
       "          (gate_proj): Linear(in_features=4096, out_features=11008, bias=False)\n",
       "          (up_proj): Linear(in_features=4096, out_features=11008, bias=False)\n",
       "          (down_proj): Linear(in_features=11008, out_features=4096, bias=False)\n",
       "          (act_fn): SiLU()\n",
       "        )\n",
       "        (input_layernorm): LlamaRMSNorm()\n",
       "        (post_attention_layernorm): LlamaRMSNorm()\n",
       "      )\n",
       "    )\n",
       "    (norm): LlamaRMSNorm()\n",
       "  )\n",
       "  (lm_head): Linear(in_features=4096, out_features=32000, bias=False)\n",
       ")"
      ]
     },
     "execution_count": 126,
     "metadata": {},
     "output_type": "execute_result"
    }
   ],
   "source": [
    "model.model."
   ]
  },
  {
   "cell_type": "code",
   "execution_count": 128,
   "id": "6732ae8b-0bd1-462f-9b50-783234817baf",
   "metadata": {},
   "outputs": [
    {
     "data": {
      "text/plain": [
       "4096"
      ]
     },
     "execution_count": 128,
     "metadata": {},
     "output_type": "execute_result"
    }
   ],
   "source": [
    "model.config.hidden_size"
   ]
  },
  {
   "cell_type": "code",
   "execution_count": null,
   "id": "c40d54a4-c7f3-43ca-8b4f-24ec616b380d",
   "metadata": {},
   "outputs": [],
   "source": []
  }
 ],
 "metadata": {
  "kernelspec": {
   "display_name": "Python 3 (ipykernel)",
   "language": "python",
   "name": "python3"
  },
  "language_info": {
   "codemirror_mode": {
    "name": "ipython",
    "version": 3
   },
   "file_extension": ".py",
   "mimetype": "text/x-python",
   "name": "python",
   "nbconvert_exporter": "python",
   "pygments_lexer": "ipython3",
   "version": "3.12.2"
  }
 },
 "nbformat": 4,
 "nbformat_minor": 5
}
